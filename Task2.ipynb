{
 "cells": [
  {
   "cell_type": "markdown",
   "id": "c6654a8a-60fb-449c-8eee-5f75f443b93f",
   "metadata": {},
   "source": [
    "# Task 2: Write and Append Data to a File\n"
   ]
  },
  {
   "cell_type": "code",
   "execution_count": 1,
   "id": "a77633de-df7a-4eff-86b1-3bee3c46a103",
   "metadata": {},
   "outputs": [
    {
     "name": "stdin",
     "output_type": "stream",
     "text": [
      "Enter text to write to the file:  Hello Python\n"
     ]
    },
    {
     "name": "stdout",
     "output_type": "stream",
     "text": [
      "Data successfully written to output.txt.\n"
     ]
    },
    {
     "name": "stdin",
     "output_type": "stream",
     "text": [
      "Enter additional text to append:  Learning with python \n"
     ]
    },
    {
     "name": "stdout",
     "output_type": "stream",
     "text": [
      "Data successfully appended.\n",
      "Final content of output.txt:\n",
      "Hello Python\n",
      "Learning with python\n"
     ]
    }
   ],
   "source": [
    "data = input(\"Enter text to write to the file: \")\n",
    "with open(\"output.txt\", \"w\") as file:\n",
    "    file.write(data + \"\\n\")\n",
    "print(\"Data successfully written to output.txt.\")\n",
    "\n",
    "# Step 2: Append additional data\n",
    "more_data = input(\"Enter additional text to append: \")\n",
    "with open(\"output.txt\", \"a\") as file:\n",
    "    file.write(more_data + \"\\n\")\n",
    "print(\"Data successfully appended.\")\n",
    "\n",
    "# Step 3: Read and display final content\n",
    "print(\"Final content of output.txt:\")\n",
    "with open(\"output.txt\", \"r\") as file:\n",
    "    lines = file.readlines()\n",
    "    for line in lines:\n",
    "        print(line.strip())"
   ]
  },
  {
   "cell_type": "code",
   "execution_count": null,
   "id": "df3a6326-82c6-4ca4-b7c7-9b8fe41caa65",
   "metadata": {},
   "outputs": [],
   "source": []
  }
 ],
 "metadata": {
  "kernelspec": {
   "display_name": "Python 3 (ipykernel)",
   "language": "python",
   "name": "python3"
  },
  "language_info": {
   "codemirror_mode": {
    "name": "ipython",
    "version": 3
   },
   "file_extension": ".py",
   "mimetype": "text/x-python",
   "name": "python",
   "nbconvert_exporter": "python",
   "pygments_lexer": "ipython3",
   "version": "3.13.7"
  }
 },
 "nbformat": 4,
 "nbformat_minor": 5
}
