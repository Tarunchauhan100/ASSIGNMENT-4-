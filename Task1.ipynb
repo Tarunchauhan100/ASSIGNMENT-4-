{
 "cells": [
  {
   "cell_type": "markdown",
   "id": "67c64bbf-e3a7-4193-9fc9-e16b78fa3380",
   "metadata": {},
   "source": [
    "# Task 1: Read a File and Handle Errors \n"
   ]
  },
  {
   "cell_type": "code",
   "execution_count": 1,
   "id": "dc812404-6d95-4e2f-b114-d34711b2452d",
   "metadata": {},
   "outputs": [
    {
     "name": "stdout",
     "output_type": "stream",
     "text": [
      "Reading file content :\n",
      "Line 1 : This is a sample text file\n",
      "Line 2 : It contains multiple lines\n"
     ]
    }
   ],
   "source": [
    "try:\n",
    "    # Try to open the file in read mode\n",
    "    with open(\"sample.txt\", \"r\") as file:\n",
    "        print(\"Reading file content :\")\n",
    "        # Read all lines one by one\n",
    "        lines = file.readlines()\n",
    "        \n",
    "        # Print each line with line number\n",
    "        for i, line in enumerate(lines, start=1):\n",
    "            print(f\"Line {i} : {line.strip()}\")\n",
    "except FileNotFoundError:\n",
    "    # If file is not found, show this message\n",
    "    print(\"Error : The file 'sample.txt' was not found.\")"
   ]
  },
  {
   "cell_type": "code",
   "execution_count": null,
   "id": "54e0db9e-3bc9-4277-bdec-11e99a175542",
   "metadata": {},
   "outputs": [],
   "source": []
  }
 ],
 "metadata": {
  "kernelspec": {
   "display_name": "Python 3",
   "language": "python",
   "name": "python3"
  },
  "language_info": {
   "codemirror_mode": {
    "name": "ipython",
    "version": 3
   },
   "file_extension": ".py",
   "mimetype": "text/x-python",
   "name": "python",
   "nbconvert_exporter": "python",
   "pygments_lexer": "ipython3",
   "version": "3.13.7"
  }
 },
 "nbformat": 4,
 "nbformat_minor": 5
}
